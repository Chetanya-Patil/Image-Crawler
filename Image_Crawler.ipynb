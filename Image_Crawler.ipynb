{
 "cells": [
  {
   "cell_type": "code",
   "execution_count": 1,
   "metadata": {},
   "outputs": [
    {
     "name": "stdout",
     "output_type": "stream",
     "text": [
      "Enter the website Address......https://www.shutterstock.com/photos\n",
      "Enter the folder_name...chaitannya\n"
     ]
    }
   ],
   "source": [
    "import requests\n",
    "URL = input(\"Enter the website Address......\")\n",
    "REQ = requests.get(URL).text\n",
    "from bs4 import BeautifulSoup\n",
    "soup = BeautifulSoup(REQ,'html.parser')\n",
    "links = []\n",
    "A = soup.select('img[src^=\"https://images.pexels.com/photos/\"]')\n",
    "for images in A:\n",
    "    links.append(images['src'])\n",
    "    \n",
    "import os\n",
    "os.mkdir(input(\"Enter the folder_name...\"))\n",
    "i = 1\n",
    "for index, img_link in enumerate(links):\n",
    "    if i <= 30:\n",
    "        img_data = requests.get(img_link).content\n",
    "        with open(input(\"Enter the folder name Again...\")+'/'+str(index+1)+'.jpg','wb+') as f:\n",
    "            f.write(img_data)\n",
    "        i += 1\n",
    "    else:\n",
    "        f.close()\n",
    "        break\n",
    "             \n",
    "\n",
    "          \n",
    "\n",
    "\n",
    "   \n",
    "             \n",
    "              \n",
    "            \n",
    "        \n",
    "             \n",
    "        \n",
    "   \n",
    "        \n"
   ]
  }
 ],
 "metadata": {
  "kernelspec": {
   "display_name": "Python 3",
   "language": "python",
   "name": "python3"
  },
  "language_info": {
   "codemirror_mode": {
    "name": "ipython",
    "version": 3
   },
   "file_extension": ".py",
   "mimetype": "text/x-python",
   "name": "python",
   "nbconvert_exporter": "python",
   "pygments_lexer": "ipython3",
   "version": "3.7.3"
  }
 },
 "nbformat": 4,
 "nbformat_minor": 2
}
